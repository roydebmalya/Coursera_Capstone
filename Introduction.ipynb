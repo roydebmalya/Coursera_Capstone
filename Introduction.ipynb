{
 "cells": [
  {
   "cell_type": "markdown",
   "metadata": {},
   "source": [
    "# Capstone Project - The Battle of Neighborhoods - DUBAI\n"
   ]
  },
  {
   "cell_type": "markdown",
   "metadata": {},
   "source": [
    "![Dubai Pic](DUBAI.jpg)\n"
   ]
  },
  {
   "cell_type": "markdown",
   "metadata": {},
   "source": [
    "#### A. Description of the problem:"
   ]
  },
  {
   "cell_type": "markdown",
   "metadata": {},
   "source": [
    "I have been working in the city of Dubai since 2017 and what I found that the city has its own peculiar way of expanding and settling the influx of population in the city unlike any other city in the Wordl. Dubai is part of United Arab Emirates with a population of around **3.35 Million** people (Estimated as of 2019). \n",
    "\n",
    "An important thing to understand abount the demographics of Dubai is Male to Female ratio is **2.27:1** and has a massive EXPAT population of **92%** (As of 2019)\n",
    "\n",
    "This presents us with an opportunity to understand how the different areas in Dubai are split with respect to Population and if at all there is a distinctive identity of each locality as this city develops outwards everyday.\n",
    "\n",
    "What I intended to acheive by this project is to identify which Communitites(neighbourhood) are seeing the most growth interms of population and analyse of the most popular Sector(Bourough) in Dubai using FourSquare API data. \n",
    "\n",
    "With this project I intend to understand visually, which Sectors (Bourough) have seen the most growth and the highest population areas. Once we find the most popular Sector, try to understand the Venues in each Communities (Neighbourhood) and Cluster them. This would help not only to select areas to setup Business but also to select the areas where one would typically select to rent or buy Real Estate "
   ]
  },
  {
   "cell_type": "markdown",
   "metadata": {},
   "source": [
    "#### B. Description of the data:"
   ]
  },
  {
   "cell_type": "markdown",
   "metadata": {},
   "source": [
    "This part was perhaps the most challenging ! for Dubai. Good thing was Data is published by **DUBAI STATISTIC CENTER** (https://www.dsc.gov.ae/en-us) regaring the Various Sectors and Communities with population each year. \n",
    "\n",
    "But the troublesome part was Dubai is ever expanding! And the Sector which Dubai Municipality uses to mark the geographies does not match with the mordern names of those areas, as new development has taken place and its encoded on Maps by new names. \n",
    "\n",
    "This meant for this project I had to manually find out the Lat Longs of the verious communities in 9 Sectors of Dubai and map it to the population Data\n",
    "\n",
    "**i). Custom Data for Dubai Sectors/ Communities with Populations data from 2018 & 2019**: (Sample Data below)"
   ]
  },
  {
   "cell_type": "code",
   "execution_count": 2,
   "metadata": {},
   "outputs": [],
   "source": [
    "import pandas as pd \n",
    "url = 'https://raw.githubusercontent.com/roydebmalya/Coursera_Capstone/master/DUBAI_LATLONG_2019.csv'\n",
    "df = pd.read_csv(url, error_bad_lines=False)"
   ]
  },
  {
   "cell_type": "code",
   "execution_count": 3,
   "metadata": {},
   "outputs": [
    {
     "data": {
      "text/html": [
       "<div>\n",
       "<style scoped>\n",
       "    .dataframe tbody tr th:only-of-type {\n",
       "        vertical-align: middle;\n",
       "    }\n",
       "\n",
       "    .dataframe tbody tr th {\n",
       "        vertical-align: top;\n",
       "    }\n",
       "\n",
       "    .dataframe thead th {\n",
       "        text-align: right;\n",
       "    }\n",
       "</style>\n",
       "<table border=\"1\" class=\"dataframe\">\n",
       "  <thead>\n",
       "    <tr style=\"text-align: right;\">\n",
       "      <th></th>\n",
       "      <th>Sector</th>\n",
       "      <th>Community</th>\n",
       "      <th>Population_2018</th>\n",
       "      <th>Population_2019</th>\n",
       "      <th>Lat</th>\n",
       "      <th>Long</th>\n",
       "    </tr>\n",
       "  </thead>\n",
       "  <tbody>\n",
       "    <tr>\n",
       "      <th>0</th>\n",
       "      <td>1</td>\n",
       "      <td>Abu Hail</td>\n",
       "      <td>16905</td>\n",
       "      <td>17240</td>\n",
       "      <td>25.285718</td>\n",
       "      <td>55.329000</td>\n",
       "    </tr>\n",
       "    <tr>\n",
       "      <th>1</th>\n",
       "      <td>1</td>\n",
       "      <td>Al Dhagaya</td>\n",
       "      <td>15453</td>\n",
       "      <td>15899</td>\n",
       "      <td>25.272634</td>\n",
       "      <td>55.300466</td>\n",
       "    </tr>\n",
       "    <tr>\n",
       "      <th>2</th>\n",
       "      <td>1</td>\n",
       "      <td>Al Baraha</td>\n",
       "      <td>24373</td>\n",
       "      <td>24747</td>\n",
       "      <td>25.282144</td>\n",
       "      <td>55.318292</td>\n",
       "    </tr>\n",
       "    <tr>\n",
       "      <th>3</th>\n",
       "      <td>1</td>\n",
       "      <td>Rigga Al Buteen</td>\n",
       "      <td>2766</td>\n",
       "      <td>2841</td>\n",
       "      <td>25.260219</td>\n",
       "      <td>55.318796</td>\n",
       "    </tr>\n",
       "    <tr>\n",
       "      <th>4</th>\n",
       "      <td>1</td>\n",
       "      <td>Al Khabaisi</td>\n",
       "      <td>1952</td>\n",
       "      <td>1992</td>\n",
       "      <td>25.265629</td>\n",
       "      <td>55.334682</td>\n",
       "    </tr>\n",
       "  </tbody>\n",
       "</table>\n",
       "</div>"
      ],
      "text/plain": [
       "   Sector        Community  Population_2018  Population_2019        Lat  \\\n",
       "0       1         Abu Hail            16905            17240  25.285718   \n",
       "1       1       Al Dhagaya            15453            15899  25.272634   \n",
       "2       1        Al Baraha            24373            24747  25.282144   \n",
       "3       1  Rigga Al Buteen             2766             2841  25.260219   \n",
       "4       1      Al Khabaisi             1952             1992  25.265629   \n",
       "\n",
       "        Long  \n",
       "0  55.329000  \n",
       "1  55.300466  \n",
       "2  55.318292  \n",
       "3  55.318796  \n",
       "4  55.334682  "
      ]
     },
     "execution_count": 3,
     "metadata": {},
     "output_type": "execute_result"
    }
   ],
   "source": [
    "df.head()"
   ]
  },
  {
   "cell_type": "markdown",
   "metadata": {},
   "source": [
    "**ii) FOURSQUARE API Data:** Using my Foursquare Account we shall be analysing the Venues of the Most popular Sector in Dubai and try to analyse if there is a specific trait of the Businesses and Establishment in that Sector  (Sample Data below)"
   ]
  },
  {
   "cell_type": "markdown",
   "metadata": {},
   "source": [
    "![FSQ_Sample](FOURSQUARE_API_Output.jpg)"
   ]
  }
 ],
 "metadata": {
  "kernelspec": {
   "display_name": "Python 3",
   "language": "python",
   "name": "python3"
  },
  "language_info": {
   "codemirror_mode": {
    "name": "ipython",
    "version": 3
   },
   "file_extension": ".py",
   "mimetype": "text/x-python",
   "name": "python",
   "nbconvert_exporter": "python",
   "pygments_lexer": "ipython3",
   "version": "3.7.6"
  }
 },
 "nbformat": 4,
 "nbformat_minor": 4
}
